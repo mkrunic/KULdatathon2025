{
 "cells": [
  {
   "cell_type": "code",
   "execution_count": 4,
   "metadata": {},
   "outputs": [],
   "source": [
    "# pip install spacy sentence-transformers umap-learn scikit-learn matplotlib seaborn pdfminer.six"
   ]
  },
  {
   "cell_type": "markdown",
   "metadata": {},
   "source": []
  },
  {
   "cell_type": "code",
   "execution_count": 23,
   "metadata": {},
   "outputs": [
    {
     "name": "stdout",
     "output_type": "stream",
     "text": [
      "/opt/homebrew/opt/python@3.10/bin/python3.10\n",
      "Collecting en-core-web-sm==3.8.0\n",
      "  Downloading https://github.com/explosion/spacy-models/releases/download/en_core_web_sm-3.8.0/en_core_web_sm-3.8.0-py3-none-any.whl (12.8 MB)\n",
      "\u001b[2K     \u001b[90m━━━━━━━━━━━━━━━━━━━━━━━━━━━━━━━━━━━━━━━━\u001b[0m \u001b[32m12.8/12.8 MB\u001b[0m \u001b[31m27.5 MB/s\u001b[0m eta \u001b[36m0:00:00\u001b[0ma \u001b[36m0:00:01\u001b[0m\n",
      "\u001b[?25hInstalling collected packages: en-core-web-sm\n",
      "Successfully installed en-core-web-sm-3.8.0\n",
      "\n",
      "\u001b[1m[\u001b[0m\u001b[34;49mnotice\u001b[0m\u001b[1;39;49m]\u001b[0m\u001b[39;49m A new release of pip is available: \u001b[0m\u001b[31;49m24.3.1\u001b[0m\u001b[39;49m -> \u001b[0m\u001b[32;49m25.0\u001b[0m\n",
      "\u001b[1m[\u001b[0m\u001b[34;49mnotice\u001b[0m\u001b[1;39;49m]\u001b[0m\u001b[39;49m To update, run: \u001b[0m\u001b[32;49mpython3.10 -m pip install --upgrade pip\u001b[0m\n",
      "\u001b[38;5;2m✔ Download and installation successful\u001b[0m\n",
      "You can now load the package via spacy.load('en_core_web_sm')\n"
     ]
    }
   ],
   "source": [
    "#!pip install spacy\n",
    "#!pip show spacy\n",
    "\n",
    "# this one didnt work for me : ! python -m spacy download en_core_web_sm\n",
    "import sys\n",
    "print(sys.executable)\n",
    "!{sys.executable} -m spacy download en_core_web_sm\n"
   ]
  },
  {
   "cell_type": "code",
   "execution_count": 27,
   "metadata": {},
   "outputs": [],
   "source": [
    "import spacy\n",
    "nlp = spacy.load(\"en_core_web_sm\")"
   ]
  },
  {
   "cell_type": "code",
   "execution_count": null,
   "metadata": {},
   "outputs": [],
   "source": [
    "from spacy.lang.en import English"
   ]
  },
  {
   "cell_type": "code",
   "execution_count": null,
   "metadata": {},
   "outputs": [],
   "source": [
    "import os\n",
    "import pandas as pd\n",
    "from pathlib import Path\n",
    "from sentence_transformers import SentenceTransformer\n",
    "from sklearn.cluster import KMeans\n",
    "from umap import UMAP\n",
    "import matplotlib.pyplot as plt\n",
    "import seaborn as sns"
   ]
  },
  {
   "cell_type": "code",
   "execution_count": 37,
   "metadata": {},
   "outputs": [
    {
     "name": "stdout",
     "output_type": "stream",
     "text": [
      "\u001b[01;34m.\u001b[0m\n",
      "├── \u001b[01;34mClimate+Change\u001b[0m\n",
      "│   ├── \u001b[01;34mCOP Meetings\u001b[0m\n",
      "│   │   ├── \u001b[00mECO-11-11-2024.pdf\u001b[0m\n",
      "│   │   ├── \u001b[00mECO-12-11-2024.pdf\u001b[0m\n",
      "│   │   ├── \u001b[00mECO-13-11-2024.pdf\u001b[0m\n",
      "│   │   ├── \u001b[00mECO-14-11-2024.pdf\u001b[0m\n",
      "│   │   ├── \u001b[00mECO-15-11-2024.pdf\u001b[0m\n",
      "│   │   ├── \u001b[00mECO-16-11-2024.pdf\u001b[0m\n",
      "│   │   ├── \u001b[00mECO-18-11-2024.pdf\u001b[0m\n",
      "│   │   ├── \u001b[00mECO-19-11-2024.pdf\u001b[0m\n",
      "│   │   ├── \u001b[00mECO-20-11-2024.pdf\u001b[0m\n",
      "│   │   ├── \u001b[00mECO-21-11-2024.pdf\u001b[0m\n",
      "│   │   ├── \u001b[00mECO-22-11-2024.pdf\u001b[0m\n",
      "│   │   ├── \u001b[00mEarth Negotiations Bulletin.pdf\u001b[0m\n",
      "│   │   └── \u001b[00mTWN - COP29.pdf\u001b[0m\n",
      "│   ├── \u001b[01;34mClimate Policies\u001b[0m\n",
      "│   │   └── \u001b[00mclimate_policies.csv\u001b[0m\n",
      "│   ├── \u001b[01;34mG7\u001b[0m\n",
      "│   │   ├── \u001b[01;34mCanada\u001b[0m\n",
      "│   │   │   ├── \u001b[00mFederal actions for a clean growth economy.pdf\u001b[0m\n",
      "│   │   │   └── \u001b[00mPan-Canadian Framework.pdf\u001b[0m\n",
      "│   │   ├── \u001b[01;34mFrance\u001b[0m\n",
      "│   │   │   └── \u001b[00mIntegrated climate policy plan.pdf\u001b[0m\n",
      "│   │   ├── \u001b[01;34mGermany\u001b[0m\n",
      "│   │   │   ├── \u001b[00mClimate Action Plan 2050.pdf\u001b[0m\n",
      "│   │   │   └── \u001b[00mGerman draft integrated National Energy and Climate Plan.pdf\u001b[0m\n",
      "│   │   ├── \u001b[01;34mItaly\u001b[0m\n",
      "│   │   │   └── \u001b[00mItalian draft integrated National Energy and Climate Plan.pdf\u001b[0m\n",
      "│   │   ├── \u001b[01;34mJapan\u001b[0m\n",
      "│   │   │   └── \u001b[00mClimate Change Adaptation Plan.pdf\u001b[0m\n",
      "│   │   ├── \u001b[01;34mUnited Kingdom\u001b[0m\n",
      "│   │   │   └── \u001b[00mEnvironmental Improvement PLan.pdf\u001b[0m\n",
      "│   │   └── \u001b[01;34mUnited States\u001b[0m\n",
      "│   │       ├── \u001b[00mClimate Adaptation Plan.pdf\u001b[0m\n",
      "│   │       ├── \u001b[00mProject 2025.pdf\u001b[0m\n",
      "│   │       └── \u001b[00mTrump Environmental Accomplishments first term.pdf\u001b[0m\n",
      "│   └── \u001b[01;34mIPCC report\u001b[0m\n",
      "│       ├── \u001b[01;34m6th assessment\u001b[0m\n",
      "│       │   ├── \u001b[00mSynthesis report.pdf\u001b[0m\n",
      "│       │   ├── \u001b[00mWG1- Physical Science Basis.pdf\u001b[0m\n",
      "│       │   ├── \u001b[00mWG2 - Impacts, Adaptation and Vulnerability.pdf\u001b[0m\n",
      "│       │   └── \u001b[00mWG3 - Mitigation of Climate Change.pdf\u001b[0m\n",
      "│       └── \u001b[00mSummary for policymakers.txt\u001b[0m\n",
      "├── \u001b[00mDatathon 2025 - Climate Reports.docx\u001b[0m\n",
      "├── \u001b[00mDatathon 2025 - Climate Reports.pdf\u001b[0m\n",
      "└── \u001b[00mtest.ipynb\u001b[0m\n",
      "\n",
      "14 directories, 33 files\n"
     ]
    },
    {
     "name": "stderr",
     "output_type": "stream",
     "text": [
      "huggingface/tokenizers: The current process just got forked, after parallelism has already been used. Disabling parallelism to avoid deadlocks...\n",
      "To disable this warning, you can either:\n",
      "\t- Avoid using `tokenizers` before the fork if possible\n",
      "\t- Explicitly set the environment variable TOKENIZERS_PARALLELISM=(true | false)\n"
     ]
    }
   ],
   "source": [
    "! tree . "
   ]
  },
  {
   "cell_type": "code",
   "execution_count": null,
   "metadata": {},
   "outputs": [],
   "source": [
    "import spacy\n",
    "import pandas as pd\n",
    "import numpy as np\n",
    "import matplotlib.pyplot as plt\n",
    "import seaborn as sns\n",
    "from pathlib import Path\n",
    "from docx import Document\n",
    "from sklearn.cluster import KMeans\n",
    "from sentence_transformers import SentenceTransformer\n",
    "from umap import UMAP\n",
    "from pdfminer.high_level import extract_text\n",
    "from pdfminer.pdfparser import PDFSyntaxError"
   ]
  },
  {
   "cell_type": "code",
   "execution_count": null,
   "metadata": {},
   "outputs": [
    {
     "name": "stdout",
     "output_type": "stream",
     "text": [
      "Error processing Climate+Change/IPCC report/Summary for policymakers.txt: [E088] Text of length 1245609 exceeds maximum of 1000000. The parser and NER models require roughly 1GB of temporary memory per 100,000 characters in the input. This means long texts may cause memory allocation errors. If you're not using the parser or NER, it's probably safe to increase the `nlp.max_length` limit. The limit is in number of characters, so you can check whether your inputs are too long by checking `len(text)`.\n",
      "Error processing Climate+Change/IPCC report/6th assessment/WG3 - Mitigation of Climate Change.pdf: [E088] Text of length 12404132 exceeds maximum of 1000000. The parser and NER models require roughly 1GB of temporary memory per 100,000 characters in the input. This means long texts may cause memory allocation errors. If you're not using the parser or NER, it's probably safe to increase the `nlp.max_length` limit. The limit is in number of characters, so you can check whether your inputs are too long by checking `len(text)`.\n",
      "Error processing Climate+Change/IPCC report/6th assessment/WG2 - Impacts, Adaptation and Vulnerability.pdf: [E088] Text of length 19202778 exceeds maximum of 1000000. The parser and NER models require roughly 1GB of temporary memory per 100,000 characters in the input. This means long texts may cause memory allocation errors. If you're not using the parser or NER, it's probably safe to increase the `nlp.max_length` limit. The limit is in number of characters, so you can check whether your inputs are too long by checking `len(text)`.\n",
      "Error processing Climate+Change/IPCC report/6th assessment/WG1- Physical Science Basis.pdf: Invalid dictionary construct: [/'CS', /'DeviceCMYK', /'I', False, /'K', /b'fal', /b'se', /'S', /'Transparency', /'Type', /'Group']\n",
      "Error processing Climate+Change/G7/United States/Project 2025.pdf: [E088] Text of length 2437886 exceeds maximum of 1000000. The parser and NER models require roughly 1GB of temporary memory per 100,000 characters in the input. This means long texts may cause memory allocation errors. If you're not using the parser or NER, it's probably safe to increase the `nlp.max_length` limit. The limit is in number of characters, so you can check whether your inputs are too long by checking `len(text)`.\n"
     ]
    },
    {
     "data": {
      "application/vnd.jupyter.widget-view+json": {
       "model_id": "3da1d9f0c3c54ca08a464a0bc7d6ee61",
       "version_major": 2,
       "version_minor": 0
      },
      "text/plain": [
       "Batches:   0%|          | 0/1 [00:00<?, ?it/s]"
      ]
     },
     "metadata": {},
     "output_type": "display_data"
    },
    {
     "name": "stderr",
     "output_type": "stream",
     "text": [
      "/opt/homebrew/lib/python3.10/site-packages/sklearn/cluster/_kmeans.py:870: FutureWarning: The default value of `n_init` will change from 10 to 'auto' in 1.4. Set the value of `n_init` explicitly to suppress the warning\n",
      "  warnings.warn(\n"
     ]
    },
    {
     "data": {
      "image/png": "[encoded data removed]",
      "text/plain": [
       "<Figure size 1200x800 with 1 Axes>"
      ]
     },
     "metadata": {},
     "output_type": "display_data"
    },
    {
     "name": "stdout",
     "output_type": "stream",
     "text": [
      "\n",
      "Cluster 0 (5 documents)\n",
      "Common tokens: {'climate': 123, 'eco': 118, 'finance': 82, 'need': 63, 'country': 57, 'baku': 51, 'action': 38, 'party': 37, 'let': 36, 'right': 34}\n",
      "Main sources: source\n",
      "COP Meetings    5\n",
      "Name: count, dtype: int64\n",
      "\n",
      "Cluster 1 (7 documents)\n",
      "Common tokens: {'climate': 2678, 'change': 1628, 'emission': 1440, 'high': 1333, 'include': 1066, 'adaptation': 1028, 'action': 1008, 'develop': 1000, 'confidence': 984, 'country': 929}\n",
      "Main sources: source\n",
      "G7              5\n",
      "IPCC report     1\n",
      "COP Meetings    1\n",
      "Name: count, dtype: int64\n",
      "\n",
      "Cluster 2 (5 documents)\n",
      "Common tokens: {'energy': 6673, 'measure': 2608, 'climate': 2442, 'sector': 1999, 'electricity': 1951, 'system': 1688, 'renewable': 1671, 'plan': 1629, 'gas': 1608, 'national': 1490}\n",
      "Main sources: source\n",
      "G7    5\n",
      "Name: count, dtype: int64\n",
      "\n",
      "Cluster 3 (4 documents)\n",
      "Common tokens: {'climate': 141, 'eco': 89, 'finance': 85, 'country': 84, 'need': 50, 'adaptation': 47, 'develop': 41, 'global': 38, 'baku': 36, 'year': 35}\n",
      "Main sources: source\n",
      "COP Meetings    4\n",
      "Name: count, dtype: int64\n",
      "\n",
      "Cluster 4 (3 documents)\n",
      "Common tokens: {'party': 237, 'climate': 210, 'country': 194, 'report': 164, 'cma': 162, 'develop': 154, 'finance': 147, 'decision': 140, 'cop': 139, 'november': 121}\n",
      "Main sources: source\n",
      "COP Meetings    3\n",
      "Name: count, dtype: int64\n"
     ]
    }
   ],
   "source": [
    "# Initialize NLP pipeline\n",
    "nlp = spacy.load(\"en_core_web_sm\")\n",
    "tokenizer = nlp.tokenizer\n",
    "\n",
    "# Initialize embedding model\n",
    "embedder = SentenceTransformer('all-MiniLM-L6-v2')\n",
    "\n",
    "\n",
    "\n",
    "def load_and_process_documents(root_dir):\n",
    "    \"\"\"Load and tokenize documents from directory structure\n",
    "    \n",
    "    Walks through the directory recursively\n",
    "    Handles different file types (.pdf, .txt, .docx)\n",
    "    For each document:\n",
    "\n",
    "        Extracts text (special handling for PDFs)\n",
    "        tokenizes the text using SpaCy\n",
    "        Removes stop words and keeps only alphabetic tokens\n",
    "        Creates a dictionary with file info and processed text\"\"\"\n",
    "    \n",
    "    documents = []\n",
    "    \n",
    "    for path in Path(root_dir).rglob('*.*'):\n",
    "        if path.suffix.lower() in ['.pdf', '.txt', '.docx']:\n",
    "            try:\n",
    "                # Read file content\n",
    "                if path.suffix == '.pdf':\n",
    "                    text = extract_text_from_pdf(path)\n",
    "                else:\n",
    "                    text = path.read_text(encoding='utf-8')\n",
    "                \n",
    "                # Tokenize and clean\n",
    "                doc = nlp(text)\n",
    "                tokens = [token.lemma_.lower() for token in doc \n",
    "                         if not token.is_stop and token.is_alpha]\n",
    "                \n",
    "                documents.append({\n",
    "                    'path': str(path),\n",
    "                    'text': text,\n",
    "                    'tokens': tokens,\n",
    "                    'source': path.parts[1]  # Get parent directory name\n",
    "                })\n",
    "            except Exception as e:\n",
    "                print(f\"Error processing {path}: {e}\")\n",
    "    \n",
    "    return pd.DataFrame(documents)\n",
    "\n",
    "def extract_text_from_pdf(pdf_path):\n",
    "    \"\"\"Extract text from PDF files\n",
    "    A helper function that uses pdfminer to extract text from PDF files.\"\"\"\n",
    "    from pdfminer.high_level import extract_text\n",
    "    return extract_text(pdf_path)\n",
    "\n",
    "def generate_embeddings(df):\n",
    "    \"\"\"Generate sentence embeddings for documents            \n",
    "        Takes the processed documents\n",
    "        Joins tokens back into text\n",
    "        Uses SentenceTransformer to create embeddings\n",
    "        Returns numerical representations of the documents\"\"\"\n",
    "    texts = [' '.join(doc['tokens']) for doc in df.to_dict('records')]\n",
    "    return embedder.encode(texts, show_progress_bar=True)\n",
    "\n",
    "def cluster_documents(embeddings, n_clusters=5):\n",
    "    \"\"\"Perform dimensionality reduction and clustering\n",
    "    \n",
    "    Uses UMAP for dimensionality reduction (converting high-dimensional embeddings to 2D)\n",
    "    Applies K-means clustering to group similar documents\n",
    "    Returns both the 2D embeddings and cluster assignments \"\"\"\n",
    "    # Reduce dimensions\n",
    "    umap_embeddings = UMAP(n_components=2).fit_transform(embeddings)\n",
    "    \n",
    "    # Cluster using K-means\n",
    "    kmeans = KMeans(n_clusters=n_clusters)\n",
    "    clusters = kmeans.fit_predict(umap_embeddings)\n",
    "    \n",
    "    return umap_embeddings, clusters\n",
    "\n",
    "def visualize_clusters(embeddings, clusters, df):\n",
    "    \"\"\"Visualize document clusters\"\"\"\n",
    "    plt.figure(figsize=(12, 8))\n",
    "    scatter = sns.scatterplot(\n",
    "        x=embeddings[:, 0],\n",
    "        y=embeddings[:, 1],\n",
    "        hue=clusters,\n",
    "        style=df['source'],\n",
    "        palette=\"viridis\",\n",
    "        s=100,\n",
    "        alpha=0.8\n",
    "    )\n",
    "    \n",
    "    # Add annotations for cluster centers\n",
    "    for cluster in set(clusters):\n",
    "        center = embeddings[clusters == cluster].mean(axis=0)\n",
    "        plt.text(center[0], center[1], str(cluster), \n",
    "                fontdict={'weight': 'bold', 'size': 12})\n",
    "    \n",
    "    plt.title(\"Document Embedding Clusters\")\n",
    "    plt.xlabel(\"UMAP-1\")\n",
    "    plt.ylabel(\"UMAP-2\")\n",
    "    plt.legend(bbox_to_anchor=(1.05, 1), loc='upper left')\n",
    "    plt.show()\n",
    "\n",
    "# Main workflow\n",
    "if __name__ == \"__main__\":\n",
    "    # Load and process documents\n",
    "    root_dir = \"./Climate+Change\"\n",
    "    df = load_and_process_documents(root_dir)\n",
    "    \n",
    "    # Generate embeddings\n",
    "    embeddings = generate_embeddings(df)    \n",
    "    # Cluster documents\n",
    "    umap_embeddings, clusters = cluster_documents(embeddings, n_clusters=5)\n",
    "\n",
    "    # Use ClimateBERT for better climate-specific embeddings\n",
    "    # embedder = SentenceTransformer('climatebert/distilroberta-base-climate-f')\n",
    "    \n",
    "    # Add results to DataFrame\n",
    "    df['cluster'] = clusters\n",
    "    df['x'] = umap_embeddings[:, 0]\n",
    "    df['y'] = umap_embeddings[:, 1]\n",
    "    \n",
    "    # Visualize\n",
    "    visualize_clusters(umap_embeddings, clusters, df)\n",
    "    \n",
    "    # Show cluster characteristics\n",
    "    for cluster in sorted(df['cluster'].unique()):\n",
    "        cluster_docs = df[df['cluster'] == cluster]\n",
    "        print(f\"\\nCluster {cluster} ({len(cluster_docs)} documents)\")\n",
    "        print(\"Common tokens:\", pd.Series(\n",
    "            [token for tokens in cluster_docs['tokens'] for token in tokens]\n",
    "        ).value_counts().head(10).to_dict())\n",
    "        print(\"Main sources:\", cluster_docs['source'].value_counts().head(3))"
   ]
  },
  {
   "cell_type": "markdown",
   "metadata": {},
   "source": [
    "The main execution:\n",
    "\n",
    "Loads and processes documents from the Climate+Change directory\n",
    "Generates embeddings for all documents\n",
    "Performs clustering\n",
    "Adds results to the DataFrame\n",
    "Creates visualization\n",
    "Prints cluster characteristics:\n",
    "\n",
    "Number of documents per cluster\n",
    "Most common tokens in each cluster\n",
    "Main document sources in each cluster\n",
    "\n",
    "\n",
    "\n",
    "Key Features:\n",
    "\n",
    "Uses UMAP for dimensionality reduction (better than t-SNE for larger datasets)\n",
    "Combines multiple NLP tools (SpaCy, SentenceTransformer)\n",
    "Handles multiple file types\n",
    "Provides both visualization and statistical analysis\n",
    "Comments suggest using ClimateBERT for domain-specific embeddings\n",
    "\n",
    "Common Use Cases:\n",
    "\n",
    "Understanding document relationships\n",
    "Finding thematic clusters in policy documents\n",
    "Identifying patterns across different document sources\n",
    "Comparing policies from different regions/organizations"
   ]
  },
  {
   "cell_type": "code",
   "execution_count": null,
   "metadata": {},
   "outputs": [],
   "source": [
    "from sklearn.decomposition import LatentDirichletAllocation\n",
    "\n",
    "# Perform LDA on clustered documents\n",
    "vectorizer = CountVectorizer(max_df=0.95, min_df=2)\n",
    "dtm = vectorizer.fit_transform(df['text'])\n",
    "lda = LatentDirichletAllocation(n_components=5)\n",
    "lda.fit(dtm)"
   ]
  },
  {
   "cell_type": "code",
   "execution_count": null,
   "metadata": {},
   "outputs": [],
   "source": [
    "# !pip install pdfplumber spacy transformers torch datasets peft pandas wandb"
   ]
  },
  {
   "cell_type": "code",
   "execution_count": 51,
   "metadata": {},
   "outputs": [
    {
     "name": "stdout",
     "output_type": "stream",
     "text": [
      "\u001b[01;34m.\u001b[0m\n",
      "├── \u001b[01;34mClimate+Change\u001b[0m\n",
      "│   ├── \u001b[01;34mCOP Meetings\u001b[0m\n",
      "│   │   ├── \u001b[00mECO-11-11-2024.pdf\u001b[0m\n",
      "│   │   ├── \u001b[00mECO-12-11-2024.pdf\u001b[0m\n",
      "│   │   ├── \u001b[00mECO-13-11-2024.pdf\u001b[0m\n",
      "│   │   ├── \u001b[00mECO-14-11-2024.pdf\u001b[0m\n",
      "│   │   ├── \u001b[00mECO-15-11-2024.pdf\u001b[0m\n",
      "│   │   ├── \u001b[00mECO-16-11-2024.pdf\u001b[0m\n",
      "│   │   ├── \u001b[00mECO-18-11-2024.pdf\u001b[0m\n",
      "│   │   ├── \u001b[00mECO-19-11-2024.pdf\u001b[0m\n",
      "│   │   ├── \u001b[00mECO-20-11-2024.pdf\u001b[0m\n",
      "│   │   ├── \u001b[00mECO-21-11-2024.pdf\u001b[0m\n",
      "│   │   ├── \u001b[00mECO-22-11-2024.pdf\u001b[0m\n",
      "│   │   ├── \u001b[00mEarth Negotiations Bulletin.pdf\u001b[0m\n",
      "│   │   └── \u001b[00mTWN - COP29.pdf\u001b[0m\n",
      "│   ├── \u001b[01;34mClimate Policies\u001b[0m\n",
      "│   │   └── \u001b[00mclimate_policies.csv\u001b[0m\n",
      "│   ├── \u001b[01;34mG7\u001b[0m\n",
      "│   │   ├── \u001b[01;34mCanada\u001b[0m\n",
      "│   │   │   ├── \u001b[00mFederal actions for a clean growth economy.pdf\u001b[0m\n",
      "│   │   │   └── \u001b[00mPan-Canadian Framework.pdf\u001b[0m\n",
      "│   │   ├── \u001b[01;34mFrance\u001b[0m\n",
      "│   │   │   └── \u001b[00mIntegrated climate policy plan.pdf\u001b[0m\n",
      "│   │   ├── \u001b[01;34mGermany\u001b[0m\n",
      "│   │   │   ├── \u001b[00mClimate Action Plan 2050.pdf\u001b[0m\n",
      "│   │   │   └── \u001b[00mGerman draft integrated National Energy and Climate Plan.pdf\u001b[0m\n",
      "│   │   ├── \u001b[01;34mItaly\u001b[0m\n",
      "│   │   │   └── \u001b[00mItalian draft integrated National Energy and Climate Plan.pdf\u001b[0m\n",
      "│   │   ├── \u001b[01;34mJapan\u001b[0m\n",
      "│   │   │   └── \u001b[00mClimate Change Adaptation Plan.pdf\u001b[0m\n",
      "│   │   ├── \u001b[01;34mUnited Kingdom\u001b[0m\n",
      "│   │   │   └── \u001b[00mEnvironmental Improvement PLan.pdf\u001b[0m\n",
      "│   │   └── \u001b[01;34mUnited States\u001b[0m\n",
      "│   │       ├── \u001b[00mClimate Adaptation Plan.pdf\u001b[0m\n",
      "│   │       ├── \u001b[00mProject 2025.pdf\u001b[0m\n",
      "│   │       └── \u001b[00mTrump Environmental Accomplishments first term.pdf\u001b[0m\n",
      "│   └── \u001b[01;34mIPCC report\u001b[0m\n",
      "│       ├── \u001b[01;34m6th assessment\u001b[0m\n",
      "│       │   ├── \u001b[00mSynthesis report.pdf\u001b[0m\n",
      "│       │   ├── \u001b[00mWG1- Physical Science Basis.pdf\u001b[0m\n",
      "│       │   ├── \u001b[00mWG2 - Impacts, Adaptation and Vulnerability.pdf\u001b[0m\n",
      "│       │   └── \u001b[00mWG3 - Mitigation of Climate Change.pdf\u001b[0m\n",
      "│       └── \u001b[00mSummary for policymakers.txt\u001b[0m\n",
      "├── \u001b[00mDatathon 2025 - Climate Reports.docx\u001b[0m\n",
      "├── \u001b[00mDatathon 2025 - Climate Reports.pdf\u001b[0m\n",
      "└── \u001b[00mtest.ipynb\u001b[0m\n",
      "\n",
      "14 directories, 33 files\n"
     ]
    },
    {
     "name": "stderr",
     "output_type": "stream",
     "text": [
      "huggingface/tokenizers: The current process just got forked, after parallelism has already been used. Disabling parallelism to avoid deadlocks...\n",
      "To disable this warning, you can either:\n",
      "\t- Avoid using `tokenizers` before the fork if possible\n",
      "\t- Explicitly set the environment variable TOKENIZERS_PARALLELISM=(true | false)\n"
     ]
    }
   ],
   "source": [
    "!tree"
   ]
  },
  {
   "cell_type": "markdown",
   "metadata": {},
   "source": [
    "# Preprocessing"
   ]
  },
  {
   "cell_type": "code",
   "execution_count": 53,
   "metadata": {},
   "outputs": [],
   "source": [
    "import os\n",
    "from typing import List, Dict, Any\n",
    "import pandas as pd\n",
    "import pdfplumber\n",
    "from pathlib import Path\n",
    "import spacy\n",
    "from transformers import AutoTokenizer, AutoModel\n",
    "import torch\n",
    "from datasets import Dataset\n",
    "from peft import LoraConfig, TaskType, get_peft_model\n",
    "import json\n"
   ]
  },
  {
   "cell_type": "code",
   "execution_count": 54,
   "metadata": {},
   "outputs": [
    {
     "name": "stderr",
     "output_type": "stream",
     "text": [
      "huggingface/tokenizers: The current process just got forked, after parallelism has already been used. Disabling parallelism to avoid deadlocks...\n",
      "To disable this warning, you can either:\n",
      "\t- Avoid using `tokenizers` before the fork if possible\n",
      "\t- Explicitly set the environment variable TOKENIZERS_PARALLELISM=(true | false)\n"
     ]
    },
    {
     "name": "stdout",
     "output_type": "stream",
     "text": [
      "\u001b[31mERROR: Could not find a version that satisfies the requirement pdf_reader (from versions: none)\u001b[0m\u001b[31m\n",
      "\u001b[0m\n",
      "\u001b[1m[\u001b[0m\u001b[34;49mnotice\u001b[0m\u001b[1;39;49m]\u001b[0m\u001b[39;49m A new release of pip is available: \u001b[0m\u001b[31;49m24.3.1\u001b[0m\u001b[39;49m -> \u001b[0m\u001b[32;49m25.0\u001b[0m\n",
      "\u001b[1m[\u001b[0m\u001b[34;49mnotice\u001b[0m\u001b[1;39;49m]\u001b[0m\u001b[39;49m To update, run: \u001b[0m\u001b[32;49mpython3.10 -m pip install --upgrade pip\u001b[0m\n",
      "\u001b[31mERROR: No matching distribution found for pdf_reader\u001b[0m\u001b[31m\n",
      "\u001b[0m"
     ]
    }
   ],
   "source": [
    "!pip install pdf_reader"
   ]
  },
  {
   "cell_type": "code",
   "execution_count": null,
   "metadata": {},
   "outputs": [],
   "source": []
  }
 ],
 "metadata": {
  "kernelspec": {
   "display_name": "Python 3",
   "language": "python",
   "name": "python3"
  },
  "language_info": {
   "codemirror_mode": {
    "name": "ipython",
    "version": 3
   },
   "file_extension": ".py",
   "mimetype": "text/x-python",
   "name": "python",
   "nbconvert_exporter": "python",
   "pygments_lexer": "ipython3",
   "version": "3.10.14"
  }
 },
 "nbformat": 4,
 "nbformat_minor": 2
}
